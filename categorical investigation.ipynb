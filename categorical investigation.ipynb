{
 "cells": [
  {
   "cell_type": "code",
   "execution_count": 20,
   "metadata": {},
   "outputs": [],
   "source": [
    "# ref: Python Machine Learning by Sebastian Raschka & Vahid Mirjalili\n",
    "# all imports\n",
    "import pandas as pd\n",
    "import numpy as np\n",
    "\n"
   ]
  },
  {
   "cell_type": "code",
   "execution_count": 18,
   "metadata": {},
   "outputs": [],
   "source": [
    "# UCI Wine Dataset\n",
    "df = pd.read_csv('./datasets/wine.data', header=None)"
   ]
  },
  {
   "cell_type": "code",
   "execution_count": 19,
   "metadata": {},
   "outputs": [
    {
     "name": "stdout",
     "output_type": "stream",
     "text": [
      "1. Title of Database: Wine recognition data\r\n",
      "\tUpdated Sept 21, 1998 by C.Blake : Added attribute information\r\n",
      "\r\n",
      "2. Sources:\r\n",
      "   (a) Forina, M. et al, PARVUS - An Extendible Package for Data\r\n",
      "       Exploration, Classification and Correlation. Institute of Pharmaceutical\r\n",
      "       and Food Analysis and Technologies, Via Brigata Salerno, \r\n",
      "       16147 Genoa, Italy.\r\n",
      "\r\n",
      "   (b) Stefan Aeberhard, email: stefan@coral.cs.jcu.edu.au\r\n",
      "   (c) July 1991\r\n",
      "3. Past Usage:\r\n",
      "\r\n",
      "   (1)\r\n",
      "   S. Aeberhard, D. Coomans and O. de Vel,\r\n",
      "   Comparison of Classifiers in High Dimensional Settings,\r\n",
      "   Tech. Rep. no. 92-02, (1992), Dept. of Computer Science and Dept. of\r\n",
      "   Mathematics and Statistics, James Cook University of North Queensland.\r\n",
      "   (Also submitted to Technometrics).\r\n",
      "\r\n",
      "   The data was used with many others for comparing various \r\n",
      "   classifiers. The classes are separable, though only RDA \r\n",
      "   has achieved 100% correct classification.\r\n",
      "   (RDA : 100%, QDA 99.4%, LDA 98.9%, 1NN 96.1% (z-transformed data))\r\n",
      "   (All results using the leave-one-out technique)\r\n",
      "\r\n",
      "   In a classification context, this is a well posed problem \r\n",
      "   with \"well behaved\" class structures. A good data set \r\n",
      "   for first testing of a new classifier, but not very \r\n",
      "   challenging.\r\n",
      "\r\n",
      "   (2) \r\n",
      "   S. Aeberhard, D. Coomans and O. de Vel,\r\n",
      "   \"THE CLASSIFICATION PERFORMANCE OF RDA\"\r\n",
      "   Tech. Rep. no. 92-01, (1992), Dept. of Computer Science and Dept. of\r\n",
      "   Mathematics and Statistics, James Cook University of North Queensland.\r\n",
      "   (Also submitted to Journal of Chemometrics).\r\n",
      "\r\n",
      "   Here, the data was used to illustrate the superior performance of\r\n",
      "   the use of a new appreciation function with RDA. \r\n",
      "\r\n",
      "4. Relevant Information:\r\n",
      "\r\n",
      "   -- These data are the results of a chemical analysis of\r\n",
      "      wines grown in the same region in Italy but derived from three\r\n",
      "      different cultivars.\r\n",
      "      The analysis determined the quantities of 13 constituents\r\n",
      "      found in each of the three types of wines. \r\n",
      "\r\n",
      "   -- I think that the initial data set had around 30 variables, but \r\n",
      "      for some reason I only have the 13 dimensional version. \r\n",
      "      I had a list of what the 30 or so variables were, but a.) \r\n",
      "      I lost it, and b.), I would not know which 13 variables\r\n",
      "      are included in the set.\r\n",
      "\r\n",
      "   -- The attributes are (dontated by Riccardo Leardi, \r\n",
      "\triclea@anchem.unige.it )\r\n",
      " \t1) Alcohol\r\n",
      " \t2) Malic acid\r\n",
      " \t3) Ash\r\n",
      "\t4) Alcalinity of ash  \r\n",
      " \t5) Magnesium\r\n",
      "\t6) Total phenols\r\n",
      " \t7) Flavanoids\r\n",
      " \t8) Nonflavanoid phenols\r\n",
      " \t9) Proanthocyanins\r\n",
      "\t10)Color intensity\r\n",
      " \t11)Hue\r\n",
      " \t12)OD280/OD315 of diluted wines\r\n",
      " \t13)Proline            \r\n",
      "\r\n",
      "5. Number of Instances\r\n",
      "\r\n",
      "      \tclass 1 59\r\n",
      "\tclass 2 71\r\n",
      "\tclass 3 48\r\n",
      "\r\n",
      "6. Number of Attributes \r\n",
      "\t\r\n",
      "\t13\r\n",
      "\r\n",
      "7. For Each Attribute:\r\n",
      "\r\n",
      "\tAll attributes are continuous\r\n",
      "\t\r\n",
      "\tNo statistics available, but suggest to standardise\r\n",
      "\tvariables for certain uses (e.g. for us with classifiers\r\n",
      "\twhich are NOT scale invariant)\r\n",
      "\r\n",
      "\tNOTE: 1st attribute is class identifier (1-3)\r\n",
      "\r\n",
      "8. Missing Attribute Values:\r\n",
      "\r\n",
      "\tNone\r\n",
      "\r\n",
      "9. Class Distribution: number of instances per class\r\n",
      "\r\n",
      "      \tclass 1 59\r\n",
      "\tclass 2 71\r\n",
      "\tclass 3 48\r\n"
     ]
    }
   ],
   "source": [
    "!cat ./datasets/wine.names"
   ]
  },
  {
   "cell_type": "code",
   "execution_count": 21,
   "metadata": {},
   "outputs": [],
   "source": [
    "df.columns = ['Class label', 'Alcohol', 'Malic acid', 'Ash', 'Alcalinity of ash', 'Magnesium', 'Toral phenols', 'Flavanoids',\n",
    "             'NonFlavanoids Phenols', 'Proanthocyanins', 'Color intensity', 'Hue', 'OD280/OD315 of diluted wines', 'Proline']"
   ]
  },
  {
   "cell_type": "code",
   "execution_count": 22,
   "metadata": {},
   "outputs": [
    {
     "name": "stdout",
     "output_type": "stream",
     "text": [
      "Class labels [1 2 3]\n"
     ]
    }
   ],
   "source": [
    "print('Class labels', np.unique(df['Class label']))"
   ]
  },
  {
   "cell_type": "code",
   "execution_count": 23,
   "metadata": {},
   "outputs": [
    {
     "data": {
      "text/html": [
       "<div>\n",
       "<style scoped>\n",
       "    .dataframe tbody tr th:only-of-type {\n",
       "        vertical-align: middle;\n",
       "    }\n",
       "\n",
       "    .dataframe tbody tr th {\n",
       "        vertical-align: top;\n",
       "    }\n",
       "\n",
       "    .dataframe thead th {\n",
       "        text-align: right;\n",
       "    }\n",
       "</style>\n",
       "<table border=\"1\" class=\"dataframe\">\n",
       "  <thead>\n",
       "    <tr style=\"text-align: right;\">\n",
       "      <th></th>\n",
       "      <th>Class label</th>\n",
       "      <th>Alcohol</th>\n",
       "      <th>Malic acid</th>\n",
       "      <th>Ash</th>\n",
       "      <th>Alcalinity of ash</th>\n",
       "      <th>Magnesium</th>\n",
       "      <th>Toral phenols</th>\n",
       "      <th>Flavanoids</th>\n",
       "      <th>NonFlavanoids Phenols</th>\n",
       "      <th>Proanthocyanins</th>\n",
       "      <th>Color intensity</th>\n",
       "      <th>Hue</th>\n",
       "      <th>OD280/OD315 of diluted wines</th>\n",
       "      <th>Proline</th>\n",
       "    </tr>\n",
       "  </thead>\n",
       "  <tbody>\n",
       "    <tr>\n",
       "      <th>0</th>\n",
       "      <td>1</td>\n",
       "      <td>14.23</td>\n",
       "      <td>1.71</td>\n",
       "      <td>2.43</td>\n",
       "      <td>15.6</td>\n",
       "      <td>127</td>\n",
       "      <td>2.80</td>\n",
       "      <td>3.06</td>\n",
       "      <td>0.28</td>\n",
       "      <td>2.29</td>\n",
       "      <td>5.64</td>\n",
       "      <td>1.04</td>\n",
       "      <td>3.92</td>\n",
       "      <td>1065</td>\n",
       "    </tr>\n",
       "    <tr>\n",
       "      <th>1</th>\n",
       "      <td>1</td>\n",
       "      <td>13.20</td>\n",
       "      <td>1.78</td>\n",
       "      <td>2.14</td>\n",
       "      <td>11.2</td>\n",
       "      <td>100</td>\n",
       "      <td>2.65</td>\n",
       "      <td>2.76</td>\n",
       "      <td>0.26</td>\n",
       "      <td>1.28</td>\n",
       "      <td>4.38</td>\n",
       "      <td>1.05</td>\n",
       "      <td>3.40</td>\n",
       "      <td>1050</td>\n",
       "    </tr>\n",
       "    <tr>\n",
       "      <th>2</th>\n",
       "      <td>1</td>\n",
       "      <td>13.16</td>\n",
       "      <td>2.36</td>\n",
       "      <td>2.67</td>\n",
       "      <td>18.6</td>\n",
       "      <td>101</td>\n",
       "      <td>2.80</td>\n",
       "      <td>3.24</td>\n",
       "      <td>0.30</td>\n",
       "      <td>2.81</td>\n",
       "      <td>5.68</td>\n",
       "      <td>1.03</td>\n",
       "      <td>3.17</td>\n",
       "      <td>1185</td>\n",
       "    </tr>\n",
       "    <tr>\n",
       "      <th>3</th>\n",
       "      <td>1</td>\n",
       "      <td>14.37</td>\n",
       "      <td>1.95</td>\n",
       "      <td>2.50</td>\n",
       "      <td>16.8</td>\n",
       "      <td>113</td>\n",
       "      <td>3.85</td>\n",
       "      <td>3.49</td>\n",
       "      <td>0.24</td>\n",
       "      <td>2.18</td>\n",
       "      <td>7.80</td>\n",
       "      <td>0.86</td>\n",
       "      <td>3.45</td>\n",
       "      <td>1480</td>\n",
       "    </tr>\n",
       "    <tr>\n",
       "      <th>4</th>\n",
       "      <td>1</td>\n",
       "      <td>13.24</td>\n",
       "      <td>2.59</td>\n",
       "      <td>2.87</td>\n",
       "      <td>21.0</td>\n",
       "      <td>118</td>\n",
       "      <td>2.80</td>\n",
       "      <td>2.69</td>\n",
       "      <td>0.39</td>\n",
       "      <td>1.82</td>\n",
       "      <td>4.32</td>\n",
       "      <td>1.04</td>\n",
       "      <td>2.93</td>\n",
       "      <td>735</td>\n",
       "    </tr>\n",
       "  </tbody>\n",
       "</table>\n",
       "</div>"
      ],
      "text/plain": [
       "   Class label  Alcohol  Malic acid   Ash  Alcalinity of ash  Magnesium  \\\n",
       "0            1    14.23        1.71  2.43               15.6        127   \n",
       "1            1    13.20        1.78  2.14               11.2        100   \n",
       "2            1    13.16        2.36  2.67               18.6        101   \n",
       "3            1    14.37        1.95  2.50               16.8        113   \n",
       "4            1    13.24        2.59  2.87               21.0        118   \n",
       "\n",
       "   Toral phenols  Flavanoids  NonFlavanoids Phenols  Proanthocyanins  \\\n",
       "0           2.80        3.06                   0.28             2.29   \n",
       "1           2.65        2.76                   0.26             1.28   \n",
       "2           2.80        3.24                   0.30             2.81   \n",
       "3           3.85        3.49                   0.24             2.18   \n",
       "4           2.80        2.69                   0.39             1.82   \n",
       "\n",
       "   Color intensity   Hue  OD280/OD315 of diluted wines  Proline  \n",
       "0             5.64  1.04                          3.92     1065  \n",
       "1             4.38  1.05                          3.40     1050  \n",
       "2             5.68  1.03                          3.17     1185  \n",
       "3             7.80  0.86                          3.45     1480  \n",
       "4             4.32  1.04                          2.93      735  "
      ]
     },
     "execution_count": 23,
     "metadata": {},
     "output_type": "execute_result"
    }
   ],
   "source": [
    "df.head()"
   ]
  },
  {
   "cell_type": "code",
   "execution_count": 24,
   "metadata": {},
   "outputs": [],
   "source": [
    "from sklearn.model_selection import train_test_split\n",
    "X, y = df.iloc[:,1:].values, df.iloc[:,0].values"
   ]
  },
  {
   "cell_type": "code",
   "execution_count": 35,
   "metadata": {},
   "outputs": [],
   "source": [
    "X_train, X_test, y_train, y_test = train_test_split(X, y, test_size=0.3, random_state=0, stratify=y)"
   ]
  },
  {
   "cell_type": "code",
   "execution_count": 40,
   "metadata": {},
   "outputs": [],
   "source": [
    "#scale by min-max\n",
    "from sklearn.preprocessing import MinMaxScaler\n",
    "mms = MinMaxScaler()\n",
    "X_train_norm = mms.fit_transform(X_train)\n",
    "X_test_norm = mms.fit_transform(X_test)\n",
    "\n",
    "#standardized scale\n",
    "from sklearn.preprocessing import StandardScaler\n",
    "stdsc= StandardScaler()\n",
    "X_train_std = stdsc.fit_transform(X_train)\n",
    "X_test_std = stdsc.fit_transform(X_test)\n"
   ]
  },
  {
   "cell_type": "code",
   "execution_count": 46,
   "metadata": {},
   "outputs": [
    {
     "name": "stdout",
     "output_type": "stream",
     "text": [
      "1.0\n",
      "1.0\n"
     ]
    }
   ],
   "source": [
    "from sklearn.linear_model import LogisticRegression\n",
    "lr = LogisticRegression(penalty='l1', C=1.0)\n",
    "\n",
    "lr.fit(X_train_std, y_train)\n",
    "print(lr.score(X_train_std, y_train))\n",
    "\n",
    "print(lr.score(X_test_std, y_test))"
   ]
  },
  {
   "cell_type": "markdown",
   "metadata": {},
   "source": [
    "# to reduce overfitting \n",
    "( or highly variant model ), or generalize better for new values\n",
    "following can be done a) choose more training data \n",
    "                       b) penalize the model by regularization \n",
    "                       c) choose simpler model by pruning the features \n",
    "                       d) reduce dimentionality of training data"
   ]
  },
  {
   "cell_type": "code",
   "execution_count": null,
   "metadata": {},
   "outputs": [],
   "source": []
  }
 ],
 "metadata": {
  "kernelspec": {
   "display_name": "Python 3",
   "language": "python",
   "name": "python3"
  },
  "language_info": {
   "codemirror_mode": {
    "name": "ipython",
    "version": 3
   },
   "file_extension": ".py",
   "mimetype": "text/x-python",
   "name": "python",
   "nbconvert_exporter": "python",
   "pygments_lexer": "ipython3",
   "version": "3.6.5"
  }
 },
 "nbformat": 4,
 "nbformat_minor": 2
}
